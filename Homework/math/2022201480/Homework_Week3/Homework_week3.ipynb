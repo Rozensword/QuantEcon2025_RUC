{
 "cells": [
  {
   "cell_type": "code",
   "execution_count": null,
   "metadata": {},
   "outputs": [],
   "source": [
    "from docxtpl import DocxTemplate\n",
    "import pandas as pd\n",
    "\n",
    "# Load the Excel file containing the university names and programs\n",
    "df = pd.read_excel(\"List of Universities.xlsx\")\n",
    "\n",
    "# Load the template document\n",
    "doc = DocxTemplate(\"MSWordTemplate.docx\")"
   ]
  },
  {
   "cell_type": "code",
   "execution_count": null,
   "metadata": {},
   "outputs": [],
   "source": [
    "from docx2pdf import convert\n",
    "for index, row in df.iterrows():\n",
    "    for i in range(1,4):\n",
    "        context = {\n",
    "            'University_Name': row['University Name'],\n",
    "            'Program_Name': row['Major'+str(i)],\n",
    "        }\n",
    "        doc.render(context)\n",
    "        doc.save(f\"{row['University Name']}_{row['Major'+str(i)]}.docx\")\n",
    "        convert(f\"Statement_of_Purpose_{row['University Names']}.docx\", f\"Statement_of_Purpose_{row['University Names']}.pdf\")"
   ]
  }
 ],
 "metadata": {
  "kernelspec": {
   "display_name": "Python 3",
   "language": "python",
   "name": "python3"
  },
  "language_info": {
   "codemirror_mode": {
    "name": "ipython",
    "version": 3
   },
   "file_extension": ".py",
   "mimetype": "text/x-python",
   "name": "python",
   "nbconvert_exporter": "python",
   "pygments_lexer": "ipython3",
   "version": "3.12.1"
  }
 },
 "nbformat": 4,
 "nbformat_minor": 2
}
