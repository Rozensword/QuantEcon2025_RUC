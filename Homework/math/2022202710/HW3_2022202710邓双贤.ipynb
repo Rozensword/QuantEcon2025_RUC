{
 "cells": [
  {
   "cell_type": "code",
   "execution_count": 1,
   "id": "e5a690e4-c816-4f3c-b2cd-7ef06b05bdf7",
   "metadata": {},
   "outputs": [],
   "source": [
    "import pandas as pd\n",
    "from docxtpl import DocxTemplate\n",
    "import os\n",
    "from docx2pdf import convert"
   ]
  },
  {
   "cell_type": "code",
   "execution_count": 2,
   "id": "803e6260-aed6-4c01-b6cc-46b157fb1b4e",
   "metadata": {},
   "outputs": [],
   "source": [
    "# 读取 Excel 文件，该文件包含学校名称和项目名称等信息，然后储存数据\n",
    "excel_path = r'C:\\Users\\邓双贤\\Desktop\\University and program.xls'\n",
    "df = pd.read_excel(excel_path)\n",
    "\n",
    "# 读取 Word 模板（该模板包含需要替换的占位符）\n",
    "template_path = r'C:\\Users\\邓双贤\\Desktop\\Application.docx'\n",
    "template = DocxTemplate(template_path)\n",
    "\n",
    "# 指定生成的 Word 文档和 PDF 文件要保存的文件夹路径\n",
    "save_folder = r'C:\\Users\\邓双贤\\Desktop\\Application'\n",
    "\n",
    "# 用 docx2pdf转换 word有时候会莫名其妙报错，因此后面采用循环，使其在报错时多尝试几次，这里定义最大重试次数为3（实际上基本上第二次就能成功）\n",
    "MAX_RETRIES = 3"
   ]
  },
  {
   "cell_type": "code",
   "execution_count": 3,
   "id": "00130e37-6a63-4be6-972c-68d64a55f821",
   "metadata": {},
   "outputs": [
    {
     "name": "stdout",
     "output_type": "stream",
     "text": [
      "生成文件: C:\\Users\\邓双贤\\Desktop\\Application\\Harvard University_MA in Economics Department.docx\n"
     ]
    },
    {
     "data": {
      "application/vnd.jupyter.widget-view+json": {
       "model_id": "7e0ee62c97544e7295989aa6e9df5bad",
       "version_major": 2,
       "version_minor": 0
      },
      "text/plain": [
       "  0%|          | 0/1 [00:00<?, ?it/s]"
      ]
     },
     "metadata": {},
     "output_type": "display_data"
    },
    {
     "name": "stdout",
     "output_type": "stream",
     "text": [
      "转换为 PDF: C:\\Users\\邓双贤\\Desktop\\Application\\Harvard University_MA in Economics Department.pdf\n",
      "生成文件: C:\\Users\\邓双贤\\Desktop\\Application\\Harvard University_MA in Data Science.docx\n"
     ]
    },
    {
     "data": {
      "application/vnd.jupyter.widget-view+json": {
       "model_id": "fc10810273764f54a159b9fa9c9900fa",
       "version_major": 2,
       "version_minor": 0
      },
      "text/plain": [
       "  0%|          | 0/1 [00:00<?, ?it/s]"
      ]
     },
     "metadata": {},
     "output_type": "display_data"
    },
    {
     "name": "stdout",
     "output_type": "stream",
     "text": [
      "转换 C:\\Users\\邓双贤\\Desktop\\Application\\Harvard University_MA in Data Science.docx 到 C:\\Users\\邓双贤\\Desktop\\Application\\Harvard University_MA in Data Science.pdf 出错（第 1 次尝试）: (-2147417848, '被调用的对象已与其客户端断开连接。', None, None)，将进行第 2 次尝试。\n"
     ]
    },
    {
     "data": {
      "application/vnd.jupyter.widget-view+json": {
       "model_id": "042f9088075b48bfb1b8867a35a5be4d",
       "version_major": 2,
       "version_minor": 0
      },
      "text/plain": [
       "  0%|          | 0/1 [00:00<?, ?it/s]"
      ]
     },
     "metadata": {},
     "output_type": "display_data"
    },
    {
     "name": "stdout",
     "output_type": "stream",
     "text": [
      "转换为 PDF: C:\\Users\\邓双贤\\Desktop\\Application\\Harvard University_MA in Data Science.pdf\n",
      "生成文件: C:\\Users\\邓双贤\\Desktop\\Application\\Harvard University_PhD in Statistics.docx\n"
     ]
    },
    {
     "data": {
      "application/vnd.jupyter.widget-view+json": {
       "model_id": "07c35c6099c947a29cd103f14b68c973",
       "version_major": 2,
       "version_minor": 0
      },
      "text/plain": [
       "  0%|          | 0/1 [00:00<?, ?it/s]"
      ]
     },
     "metadata": {},
     "output_type": "display_data"
    },
    {
     "name": "stdout",
     "output_type": "stream",
     "text": [
      "转换为 PDF: C:\\Users\\邓双贤\\Desktop\\Application\\Harvard University_PhD in Statistics.pdf\n",
      "生成文件: C:\\Users\\邓双贤\\Desktop\\Application\\MIT_MA in Economics Department.docx\n"
     ]
    },
    {
     "data": {
      "application/vnd.jupyter.widget-view+json": {
       "model_id": "5390cbecbf6e4ef2ae2256b42196a2a5",
       "version_major": 2,
       "version_minor": 0
      },
      "text/plain": [
       "  0%|          | 0/1 [00:00<?, ?it/s]"
      ]
     },
     "metadata": {},
     "output_type": "display_data"
    },
    {
     "name": "stdout",
     "output_type": "stream",
     "text": [
      "转换 C:\\Users\\邓双贤\\Desktop\\Application\\MIT_MA in Economics Department.docx 到 C:\\Users\\邓双贤\\Desktop\\Application\\MIT_MA in Economics Department.pdf 出错（第 1 次尝试）: Open.SaveAs，将进行第 2 次尝试。\n"
     ]
    },
    {
     "data": {
      "application/vnd.jupyter.widget-view+json": {
       "model_id": "2e98c3e06c8746a1b2daa503bec4536b",
       "version_major": 2,
       "version_minor": 0
      },
      "text/plain": [
       "  0%|          | 0/1 [00:00<?, ?it/s]"
      ]
     },
     "metadata": {},
     "output_type": "display_data"
    },
    {
     "name": "stdout",
     "output_type": "stream",
     "text": [
      "转换为 PDF: C:\\Users\\邓双贤\\Desktop\\Application\\MIT_MA in Economics Department.pdf\n",
      "生成文件: C:\\Users\\邓双贤\\Desktop\\Application\\MIT_MA in Data Science.docx\n"
     ]
    },
    {
     "data": {
      "application/vnd.jupyter.widget-view+json": {
       "model_id": "bc5c47c803fc42e9b595625211c3832a",
       "version_major": 2,
       "version_minor": 0
      },
      "text/plain": [
       "  0%|          | 0/1 [00:00<?, ?it/s]"
      ]
     },
     "metadata": {},
     "output_type": "display_data"
    },
    {
     "name": "stdout",
     "output_type": "stream",
     "text": [
      "转换为 PDF: C:\\Users\\邓双贤\\Desktop\\Application\\MIT_MA in Data Science.pdf\n",
      "生成文件: C:\\Users\\邓双贤\\Desktop\\Application\\MIT_PhD in Statistics.docx\n"
     ]
    },
    {
     "data": {
      "application/vnd.jupyter.widget-view+json": {
       "model_id": "70b0083289da44e6998464385856aab4",
       "version_major": 2,
       "version_minor": 0
      },
      "text/plain": [
       "  0%|          | 0/1 [00:00<?, ?it/s]"
      ]
     },
     "metadata": {},
     "output_type": "display_data"
    },
    {
     "name": "stdout",
     "output_type": "stream",
     "text": [
      "转换 C:\\Users\\邓双贤\\Desktop\\Application\\MIT_PhD in Statistics.docx 到 C:\\Users\\邓双贤\\Desktop\\Application\\MIT_PhD in Statistics.pdf 出错（第 1 次尝试）: Word.Application.Documents，将进行第 2 次尝试。\n"
     ]
    },
    {
     "data": {
      "application/vnd.jupyter.widget-view+json": {
       "model_id": "0ef9dce7df94492dbcdd0f5b567fe963",
       "version_major": 2,
       "version_minor": 0
      },
      "text/plain": [
       "  0%|          | 0/1 [00:00<?, ?it/s]"
      ]
     },
     "metadata": {},
     "output_type": "display_data"
    },
    {
     "name": "stdout",
     "output_type": "stream",
     "text": [
      "转换为 PDF: C:\\Users\\邓双贤\\Desktop\\Application\\MIT_PhD in Statistics.pdf\n",
      "生成文件: C:\\Users\\邓双贤\\Desktop\\Application\\University of California - Berkeley_MA in Economics Department.docx\n"
     ]
    },
    {
     "data": {
      "application/vnd.jupyter.widget-view+json": {
       "model_id": "67f59d588f6441ef9aa47188ec516a3f",
       "version_major": 2,
       "version_minor": 0
      },
      "text/plain": [
       "  0%|          | 0/1 [00:00<?, ?it/s]"
      ]
     },
     "metadata": {},
     "output_type": "display_data"
    },
    {
     "name": "stdout",
     "output_type": "stream",
     "text": [
      "转换为 PDF: C:\\Users\\邓双贤\\Desktop\\Application\\University of California - Berkeley_MA in Economics Department.pdf\n",
      "生成文件: C:\\Users\\邓双贤\\Desktop\\Application\\University of California - Berkeley_MA in Data Science.docx\n"
     ]
    },
    {
     "data": {
      "application/vnd.jupyter.widget-view+json": {
       "model_id": "05ccefd81001496ba1764376131372b6",
       "version_major": 2,
       "version_minor": 0
      },
      "text/plain": [
       "  0%|          | 0/1 [00:00<?, ?it/s]"
      ]
     },
     "metadata": {},
     "output_type": "display_data"
    },
    {
     "name": "stdout",
     "output_type": "stream",
     "text": [
      "转换 C:\\Users\\邓双贤\\Desktop\\Application\\University of California - Berkeley_MA in Data Science.docx 到 C:\\Users\\邓双贤\\Desktop\\Application\\University of California - Berkeley_MA in Data Science.pdf 出错（第 1 次尝试）: Word.Application.Documents，将进行第 2 次尝试。\n"
     ]
    },
    {
     "data": {
      "application/vnd.jupyter.widget-view+json": {
       "model_id": "cd31593e1a00422ab9952df9da0822a5",
       "version_major": 2,
       "version_minor": 0
      },
      "text/plain": [
       "  0%|          | 0/1 [00:00<?, ?it/s]"
      ]
     },
     "metadata": {},
     "output_type": "display_data"
    },
    {
     "name": "stdout",
     "output_type": "stream",
     "text": [
      "转换为 PDF: C:\\Users\\邓双贤\\Desktop\\Application\\University of California - Berkeley_MA in Data Science.pdf\n",
      "生成文件: C:\\Users\\邓双贤\\Desktop\\Application\\University of California - Berkeley_PhD in Statistics.docx\n"
     ]
    },
    {
     "data": {
      "application/vnd.jupyter.widget-view+json": {
       "model_id": "32a66e2a9e7e453298afb5364e0a9eec",
       "version_major": 2,
       "version_minor": 0
      },
      "text/plain": [
       "  0%|          | 0/1 [00:00<?, ?it/s]"
      ]
     },
     "metadata": {},
     "output_type": "display_data"
    },
    {
     "name": "stdout",
     "output_type": "stream",
     "text": [
      "转换为 PDF: C:\\Users\\邓双贤\\Desktop\\Application\\University of California - Berkeley_PhD in Statistics.pdf\n",
      "生成文件: C:\\Users\\邓双贤\\Desktop\\Application\\University of Chicago_MA in Economics Department.docx\n"
     ]
    },
    {
     "data": {
      "application/vnd.jupyter.widget-view+json": {
       "model_id": "b381ece66dd2417c88a3840d320b0228",
       "version_major": 2,
       "version_minor": 0
      },
      "text/plain": [
       "  0%|          | 0/1 [00:00<?, ?it/s]"
      ]
     },
     "metadata": {},
     "output_type": "display_data"
    },
    {
     "name": "stdout",
     "output_type": "stream",
     "text": [
      "转换为 PDF: C:\\Users\\邓双贤\\Desktop\\Application\\University of Chicago_MA in Economics Department.pdf\n",
      "生成文件: C:\\Users\\邓双贤\\Desktop\\Application\\University of Chicago_MA in Data Science.docx\n"
     ]
    },
    {
     "data": {
      "application/vnd.jupyter.widget-view+json": {
       "model_id": "eaf12029a2d84051987bb639c1fe8f44",
       "version_major": 2,
       "version_minor": 0
      },
      "text/plain": [
       "  0%|          | 0/1 [00:00<?, ?it/s]"
      ]
     },
     "metadata": {},
     "output_type": "display_data"
    },
    {
     "name": "stdout",
     "output_type": "stream",
     "text": [
      "转换为 PDF: C:\\Users\\邓双贤\\Desktop\\Application\\University of Chicago_MA in Data Science.pdf\n",
      "生成文件: C:\\Users\\邓双贤\\Desktop\\Application\\University of Chicago_PhD in Statistics.docx\n"
     ]
    },
    {
     "data": {
      "application/vnd.jupyter.widget-view+json": {
       "model_id": "f65306fca11642828675e282cbe84269",
       "version_major": 2,
       "version_minor": 0
      },
      "text/plain": [
       "  0%|          | 0/1 [00:00<?, ?it/s]"
      ]
     },
     "metadata": {},
     "output_type": "display_data"
    },
    {
     "name": "stdout",
     "output_type": "stream",
     "text": [
      "转换 C:\\Users\\邓双贤\\Desktop\\Application\\University of Chicago_PhD in Statistics.docx 到 C:\\Users\\邓双贤\\Desktop\\Application\\University of Chicago_PhD in Statistics.pdf 出错（第 1 次尝试）: Word.Application.Documents，将进行第 2 次尝试。\n"
     ]
    },
    {
     "data": {
      "application/vnd.jupyter.widget-view+json": {
       "model_id": "7b573e47d0db4bfb8c7f7b2c09702cc3",
       "version_major": 2,
       "version_minor": 0
      },
      "text/plain": [
       "  0%|          | 0/1 [00:00<?, ?it/s]"
      ]
     },
     "metadata": {},
     "output_type": "display_data"
    },
    {
     "name": "stdout",
     "output_type": "stream",
     "text": [
      "转换为 PDF: C:\\Users\\邓双贤\\Desktop\\Application\\University of Chicago_PhD in Statistics.pdf\n",
      "生成文件: C:\\Users\\邓双贤\\Desktop\\Application\\Paris School of Economics_MA in Economics Department.docx\n"
     ]
    },
    {
     "data": {
      "application/vnd.jupyter.widget-view+json": {
       "model_id": "c5232c7a511a465e84ac5d284997080c",
       "version_major": 2,
       "version_minor": 0
      },
      "text/plain": [
       "  0%|          | 0/1 [00:00<?, ?it/s]"
      ]
     },
     "metadata": {},
     "output_type": "display_data"
    },
    {
     "name": "stdout",
     "output_type": "stream",
     "text": [
      "转换为 PDF: C:\\Users\\邓双贤\\Desktop\\Application\\Paris School of Economics_MA in Economics Department.pdf\n",
      "生成文件: C:\\Users\\邓双贤\\Desktop\\Application\\Paris School of Economics_MA in Data Science.docx\n"
     ]
    },
    {
     "data": {
      "application/vnd.jupyter.widget-view+json": {
       "model_id": "b3ea0e21f3d640af8f2b8b13daad5c73",
       "version_major": 2,
       "version_minor": 0
      },
      "text/plain": [
       "  0%|          | 0/1 [00:00<?, ?it/s]"
      ]
     },
     "metadata": {},
     "output_type": "display_data"
    },
    {
     "name": "stdout",
     "output_type": "stream",
     "text": [
      "转换 C:\\Users\\邓双贤\\Desktop\\Application\\Paris School of Economics_MA in Data Science.docx 到 C:\\Users\\邓双贤\\Desktop\\Application\\Paris School of Economics_MA in Data Science.pdf 出错（第 1 次尝试）: Word.Application.Documents，将进行第 2 次尝试。\n"
     ]
    },
    {
     "data": {
      "application/vnd.jupyter.widget-view+json": {
       "model_id": "49a96bc28c2a4c1a8a6fb8d2490d867e",
       "version_major": 2,
       "version_minor": 0
      },
      "text/plain": [
       "  0%|          | 0/1 [00:00<?, ?it/s]"
      ]
     },
     "metadata": {},
     "output_type": "display_data"
    },
    {
     "name": "stdout",
     "output_type": "stream",
     "text": [
      "转换为 PDF: C:\\Users\\邓双贤\\Desktop\\Application\\Paris School of Economics_MA in Data Science.pdf\n",
      "生成文件: C:\\Users\\邓双贤\\Desktop\\Application\\Paris School of Economics_PhD in Statistics.docx\n"
     ]
    },
    {
     "data": {
      "application/vnd.jupyter.widget-view+json": {
       "model_id": "52da4fe8c8cc40778a3a283b7852b864",
       "version_major": 2,
       "version_minor": 0
      },
      "text/plain": [
       "  0%|          | 0/1 [00:00<?, ?it/s]"
      ]
     },
     "metadata": {},
     "output_type": "display_data"
    },
    {
     "name": "stdout",
     "output_type": "stream",
     "text": [
      "转换为 PDF: C:\\Users\\邓双贤\\Desktop\\Application\\Paris School of Economics_PhD in Statistics.pdf\n",
      "生成文件: C:\\Users\\邓双贤\\Desktop\\Application\\Princeton University_MA in Economics Department.docx\n"
     ]
    },
    {
     "data": {
      "application/vnd.jupyter.widget-view+json": {
       "model_id": "7cf15be78a234bc78c2d6336105145a7",
       "version_major": 2,
       "version_minor": 0
      },
      "text/plain": [
       "  0%|          | 0/1 [00:00<?, ?it/s]"
      ]
     },
     "metadata": {},
     "output_type": "display_data"
    },
    {
     "name": "stdout",
     "output_type": "stream",
     "text": [
      "转换 C:\\Users\\邓双贤\\Desktop\\Application\\Princeton University_MA in Economics Department.docx 到 C:\\Users\\邓双贤\\Desktop\\Application\\Princeton University_MA in Economics Department.pdf 出错（第 1 次尝试）: Word.Application.Documents，将进行第 2 次尝试。\n"
     ]
    },
    {
     "data": {
      "application/vnd.jupyter.widget-view+json": {
       "model_id": "decb7bf48cff4120b9a8b253eed2fc07",
       "version_major": 2,
       "version_minor": 0
      },
      "text/plain": [
       "  0%|          | 0/1 [00:00<?, ?it/s]"
      ]
     },
     "metadata": {},
     "output_type": "display_data"
    },
    {
     "name": "stdout",
     "output_type": "stream",
     "text": [
      "转换为 PDF: C:\\Users\\邓双贤\\Desktop\\Application\\Princeton University_MA in Economics Department.pdf\n",
      "生成文件: C:\\Users\\邓双贤\\Desktop\\Application\\Princeton University_MA in Data Science.docx\n"
     ]
    },
    {
     "data": {
      "application/vnd.jupyter.widget-view+json": {
       "model_id": "fd8f7d8eadc14eee91918b29a6bdf999",
       "version_major": 2,
       "version_minor": 0
      },
      "text/plain": [
       "  0%|          | 0/1 [00:00<?, ?it/s]"
      ]
     },
     "metadata": {},
     "output_type": "display_data"
    },
    {
     "name": "stdout",
     "output_type": "stream",
     "text": [
      "转换为 PDF: C:\\Users\\邓双贤\\Desktop\\Application\\Princeton University_MA in Data Science.pdf\n",
      "生成文件: C:\\Users\\邓双贤\\Desktop\\Application\\Princeton University_PhD in Statistics.docx\n"
     ]
    },
    {
     "data": {
      "application/vnd.jupyter.widget-view+json": {
       "model_id": "36663aa8499948959e84a2a59f553d06",
       "version_major": 2,
       "version_minor": 0
      },
      "text/plain": [
       "  0%|          | 0/1 [00:00<?, ?it/s]"
      ]
     },
     "metadata": {},
     "output_type": "display_data"
    },
    {
     "name": "stdout",
     "output_type": "stream",
     "text": [
      "转换为 PDF: C:\\Users\\邓双贤\\Desktop\\Application\\Princeton University_PhD in Statistics.pdf\n",
      "生成文件: C:\\Users\\邓双贤\\Desktop\\Application\\Stanford University_MA in Economics Department.docx\n"
     ]
    },
    {
     "data": {
      "application/vnd.jupyter.widget-view+json": {
       "model_id": "62bf1b06d9d84cb1ab5de976eefe95e0",
       "version_major": 2,
       "version_minor": 0
      },
      "text/plain": [
       "  0%|          | 0/1 [00:00<?, ?it/s]"
      ]
     },
     "metadata": {},
     "output_type": "display_data"
    },
    {
     "name": "stdout",
     "output_type": "stream",
     "text": [
      "转换为 PDF: C:\\Users\\邓双贤\\Desktop\\Application\\Stanford University_MA in Economics Department.pdf\n",
      "生成文件: C:\\Users\\邓双贤\\Desktop\\Application\\Stanford University_MA in Data Science.docx\n"
     ]
    },
    {
     "data": {
      "application/vnd.jupyter.widget-view+json": {
       "model_id": "42f2be5708e541c18f30cd546ce8ec60",
       "version_major": 2,
       "version_minor": 0
      },
      "text/plain": [
       "  0%|          | 0/1 [00:00<?, ?it/s]"
      ]
     },
     "metadata": {},
     "output_type": "display_data"
    },
    {
     "name": "stdout",
     "output_type": "stream",
     "text": [
      "转换 C:\\Users\\邓双贤\\Desktop\\Application\\Stanford University_MA in Data Science.docx 到 C:\\Users\\邓双贤\\Desktop\\Application\\Stanford University_MA in Data Science.pdf 出错（第 1 次尝试）: Word.Application.Documents，将进行第 2 次尝试。\n"
     ]
    },
    {
     "data": {
      "application/vnd.jupyter.widget-view+json": {
       "model_id": "df2ad8d5c5d44e8eb105252b09355e15",
       "version_major": 2,
       "version_minor": 0
      },
      "text/plain": [
       "  0%|          | 0/1 [00:00<?, ?it/s]"
      ]
     },
     "metadata": {},
     "output_type": "display_data"
    },
    {
     "name": "stdout",
     "output_type": "stream",
     "text": [
      "转换为 PDF: C:\\Users\\邓双贤\\Desktop\\Application\\Stanford University_MA in Data Science.pdf\n",
      "生成文件: C:\\Users\\邓双贤\\Desktop\\Application\\Stanford University_PhD in Statistics.docx\n"
     ]
    },
    {
     "data": {
      "application/vnd.jupyter.widget-view+json": {
       "model_id": "f3810505bbd9442ab86b754078ea749d",
       "version_major": 2,
       "version_minor": 0
      },
      "text/plain": [
       "  0%|          | 0/1 [00:00<?, ?it/s]"
      ]
     },
     "metadata": {},
     "output_type": "display_data"
    },
    {
     "name": "stdout",
     "output_type": "stream",
     "text": [
      "转换为 PDF: C:\\Users\\邓双贤\\Desktop\\Application\\Stanford University_PhD in Statistics.pdf\n",
      "生成文件: C:\\Users\\邓双贤\\Desktop\\Application\\Toulouse School of Economics_MA in Economics Department.docx\n"
     ]
    },
    {
     "data": {
      "application/vnd.jupyter.widget-view+json": {
       "model_id": "586b3b21c21b4c7b9ebdde506d3a755f",
       "version_major": 2,
       "version_minor": 0
      },
      "text/plain": [
       "  0%|          | 0/1 [00:00<?, ?it/s]"
      ]
     },
     "metadata": {},
     "output_type": "display_data"
    },
    {
     "name": "stdout",
     "output_type": "stream",
     "text": [
      "转换为 PDF: C:\\Users\\邓双贤\\Desktop\\Application\\Toulouse School of Economics_MA in Economics Department.pdf\n",
      "生成文件: C:\\Users\\邓双贤\\Desktop\\Application\\Toulouse School of Economics_MA in Data Science.docx\n"
     ]
    },
    {
     "data": {
      "application/vnd.jupyter.widget-view+json": {
       "model_id": "8c4fa75f92b64726b1a05cf20f6f5258",
       "version_major": 2,
       "version_minor": 0
      },
      "text/plain": [
       "  0%|          | 0/1 [00:00<?, ?it/s]"
      ]
     },
     "metadata": {},
     "output_type": "display_data"
    },
    {
     "name": "stdout",
     "output_type": "stream",
     "text": [
      "转换为 PDF: C:\\Users\\邓双贤\\Desktop\\Application\\Toulouse School of Economics_MA in Data Science.pdf\n",
      "生成文件: C:\\Users\\邓双贤\\Desktop\\Application\\Toulouse School of Economics_PhD in Statistics.docx\n"
     ]
    },
    {
     "data": {
      "application/vnd.jupyter.widget-view+json": {
       "model_id": "a7d8e322e3dc45478cd1f9dee5c2bd06",
       "version_major": 2,
       "version_minor": 0
      },
      "text/plain": [
       "  0%|          | 0/1 [00:00<?, ?it/s]"
      ]
     },
     "metadata": {},
     "output_type": "display_data"
    },
    {
     "name": "stdout",
     "output_type": "stream",
     "text": [
      "转换为 PDF: C:\\Users\\邓双贤\\Desktop\\Application\\Toulouse School of Economics_PhD in Statistics.pdf\n",
      "生成文件: C:\\Users\\邓双贤\\Desktop\\Application\\Oxford University_MA in Economics Department.docx\n"
     ]
    },
    {
     "data": {
      "application/vnd.jupyter.widget-view+json": {
       "model_id": "eb24392b857949b28e5877460b347d2b",
       "version_major": 2,
       "version_minor": 0
      },
      "text/plain": [
       "  0%|          | 0/1 [00:00<?, ?it/s]"
      ]
     },
     "metadata": {},
     "output_type": "display_data"
    },
    {
     "name": "stdout",
     "output_type": "stream",
     "text": [
      "转换 C:\\Users\\邓双贤\\Desktop\\Application\\Oxford University_MA in Economics Department.docx 到 C:\\Users\\邓双贤\\Desktop\\Application\\Oxford University_MA in Economics Department.pdf 出错（第 1 次尝试）: Word.Application.Quit，将进行第 2 次尝试。\n"
     ]
    },
    {
     "data": {
      "application/vnd.jupyter.widget-view+json": {
       "model_id": "eebad951af0141c4a6010de8a72e5758",
       "version_major": 2,
       "version_minor": 0
      },
      "text/plain": [
       "  0%|          | 0/1 [00:00<?, ?it/s]"
      ]
     },
     "metadata": {},
     "output_type": "display_data"
    },
    {
     "name": "stdout",
     "output_type": "stream",
     "text": [
      "转换为 PDF: C:\\Users\\邓双贤\\Desktop\\Application\\Oxford University_MA in Economics Department.pdf\n",
      "生成文件: C:\\Users\\邓双贤\\Desktop\\Application\\Oxford University_MA in Data Science.docx\n"
     ]
    },
    {
     "data": {
      "application/vnd.jupyter.widget-view+json": {
       "model_id": "c74e497a2b024e829e9fcfd79db64f21",
       "version_major": 2,
       "version_minor": 0
      },
      "text/plain": [
       "  0%|          | 0/1 [00:00<?, ?it/s]"
      ]
     },
     "metadata": {},
     "output_type": "display_data"
    },
    {
     "name": "stdout",
     "output_type": "stream",
     "text": [
      "转换为 PDF: C:\\Users\\邓双贤\\Desktop\\Application\\Oxford University_MA in Data Science.pdf\n",
      "生成文件: C:\\Users\\邓双贤\\Desktop\\Application\\Oxford University_PhD in Statistics.docx\n"
     ]
    },
    {
     "data": {
      "application/vnd.jupyter.widget-view+json": {
       "model_id": "dffc56aefb3e4e6dadeec51ec4f0e88c",
       "version_major": 2,
       "version_minor": 0
      },
      "text/plain": [
       "  0%|          | 0/1 [00:00<?, ?it/s]"
      ]
     },
     "metadata": {},
     "output_type": "display_data"
    },
    {
     "name": "stdout",
     "output_type": "stream",
     "text": [
      "转换 C:\\Users\\邓双贤\\Desktop\\Application\\Oxford University_PhD in Statistics.docx 到 C:\\Users\\邓双贤\\Desktop\\Application\\Oxford University_PhD in Statistics.pdf 出错（第 1 次尝试）: Word.Application.Documents，将进行第 2 次尝试。\n"
     ]
    },
    {
     "data": {
      "application/vnd.jupyter.widget-view+json": {
       "model_id": "f47067115f694ad8a8fecdeb8779c5e9",
       "version_major": 2,
       "version_minor": 0
      },
      "text/plain": [
       "  0%|          | 0/1 [00:00<?, ?it/s]"
      ]
     },
     "metadata": {},
     "output_type": "display_data"
    },
    {
     "name": "stdout",
     "output_type": "stream",
     "text": [
      "转换为 PDF: C:\\Users\\邓双贤\\Desktop\\Application\\Oxford University_PhD in Statistics.pdf\n",
      "生成文件: C:\\Users\\邓双贤\\Desktop\\Application\\Yale University_MA in Economics Department.docx\n"
     ]
    },
    {
     "data": {
      "application/vnd.jupyter.widget-view+json": {
       "model_id": "6a436bffd0f3471f9cb68b9881db8a2f",
       "version_major": 2,
       "version_minor": 0
      },
      "text/plain": [
       "  0%|          | 0/1 [00:00<?, ?it/s]"
      ]
     },
     "metadata": {},
     "output_type": "display_data"
    },
    {
     "name": "stdout",
     "output_type": "stream",
     "text": [
      "转换 C:\\Users\\邓双贤\\Desktop\\Application\\Yale University_MA in Economics Department.docx 到 C:\\Users\\邓双贤\\Desktop\\Application\\Yale University_MA in Economics Department.pdf 出错（第 1 次尝试）: Word.Application.Quit，将进行第 2 次尝试。\n"
     ]
    },
    {
     "data": {
      "application/vnd.jupyter.widget-view+json": {
       "model_id": "9ae7f476d3cc4612a3cce510b1023c14",
       "version_major": 2,
       "version_minor": 0
      },
      "text/plain": [
       "  0%|          | 0/1 [00:00<?, ?it/s]"
      ]
     },
     "metadata": {},
     "output_type": "display_data"
    },
    {
     "name": "stdout",
     "output_type": "stream",
     "text": [
      "转换为 PDF: C:\\Users\\邓双贤\\Desktop\\Application\\Yale University_MA in Economics Department.pdf\n",
      "生成文件: C:\\Users\\邓双贤\\Desktop\\Application\\Yale University_MA in Data Science.docx\n"
     ]
    },
    {
     "data": {
      "application/vnd.jupyter.widget-view+json": {
       "model_id": "8efdd5bb94a24ff4a0c82a476ed11b27",
       "version_major": 2,
       "version_minor": 0
      },
      "text/plain": [
       "  0%|          | 0/1 [00:00<?, ?it/s]"
      ]
     },
     "metadata": {},
     "output_type": "display_data"
    },
    {
     "name": "stdout",
     "output_type": "stream",
     "text": [
      "转换为 PDF: C:\\Users\\邓双贤\\Desktop\\Application\\Yale University_MA in Data Science.pdf\n",
      "生成文件: C:\\Users\\邓双贤\\Desktop\\Application\\Yale University_PhD in Statistics.docx\n"
     ]
    },
    {
     "data": {
      "application/vnd.jupyter.widget-view+json": {
       "model_id": "3667fbbe585a4eae9f9c58b78adcab7c",
       "version_major": 2,
       "version_minor": 0
      },
      "text/plain": [
       "  0%|          | 0/1 [00:00<?, ?it/s]"
      ]
     },
     "metadata": {},
     "output_type": "display_data"
    },
    {
     "name": "stdout",
     "output_type": "stream",
     "text": [
      "转换 C:\\Users\\邓双贤\\Desktop\\Application\\Yale University_PhD in Statistics.docx 到 C:\\Users\\邓双贤\\Desktop\\Application\\Yale University_PhD in Statistics.pdf 出错（第 1 次尝试）: Word.Application.Documents，将进行第 2 次尝试。\n"
     ]
    },
    {
     "data": {
      "application/vnd.jupyter.widget-view+json": {
       "model_id": "13039dea30b6406f83212339a22c356f",
       "version_major": 2,
       "version_minor": 0
      },
      "text/plain": [
       "  0%|          | 0/1 [00:00<?, ?it/s]"
      ]
     },
     "metadata": {},
     "output_type": "display_data"
    },
    {
     "name": "stdout",
     "output_type": "stream",
     "text": [
      "转换为 PDF: C:\\Users\\邓双贤\\Desktop\\Application\\Yale University_PhD in Statistics.pdf\n",
      "生成文件: C:\\Users\\邓双贤\\Desktop\\Application\\Barcelona School of Economics_MA in Economics Department.docx\n"
     ]
    },
    {
     "data": {
      "application/vnd.jupyter.widget-view+json": {
       "model_id": "f9b36d8073464e3e905f71904b2f9d53",
       "version_major": 2,
       "version_minor": 0
      },
      "text/plain": [
       "  0%|          | 0/1 [00:00<?, ?it/s]"
      ]
     },
     "metadata": {},
     "output_type": "display_data"
    },
    {
     "name": "stdout",
     "output_type": "stream",
     "text": [
      "转换 C:\\Users\\邓双贤\\Desktop\\Application\\Barcelona School of Economics_MA in Economics Department.docx 到 C:\\Users\\邓双贤\\Desktop\\Application\\Barcelona School of Economics_MA in Economics Department.pdf 出错（第 1 次尝试）: Word.Application.Quit，将进行第 2 次尝试。\n"
     ]
    },
    {
     "data": {
      "application/vnd.jupyter.widget-view+json": {
       "model_id": "af74f336e52a40328386ec9ce26ae476",
       "version_major": 2,
       "version_minor": 0
      },
      "text/plain": [
       "  0%|          | 0/1 [00:00<?, ?it/s]"
      ]
     },
     "metadata": {},
     "output_type": "display_data"
    },
    {
     "name": "stdout",
     "output_type": "stream",
     "text": [
      "转换为 PDF: C:\\Users\\邓双贤\\Desktop\\Application\\Barcelona School of Economics_MA in Economics Department.pdf\n",
      "生成文件: C:\\Users\\邓双贤\\Desktop\\Application\\Barcelona School of Economics_MA in Data Science.docx\n"
     ]
    },
    {
     "data": {
      "application/vnd.jupyter.widget-view+json": {
       "model_id": "df9df5c93faa4011a571f5518ee2eb5b",
       "version_major": 2,
       "version_minor": 0
      },
      "text/plain": [
       "  0%|          | 0/1 [00:00<?, ?it/s]"
      ]
     },
     "metadata": {},
     "output_type": "display_data"
    },
    {
     "name": "stdout",
     "output_type": "stream",
     "text": [
      "转换为 PDF: C:\\Users\\邓双贤\\Desktop\\Application\\Barcelona School of Economics_MA in Data Science.pdf\n",
      "生成文件: C:\\Users\\邓双贤\\Desktop\\Application\\Barcelona School of Economics_PhD in Statistics.docx\n"
     ]
    },
    {
     "data": {
      "application/vnd.jupyter.widget-view+json": {
       "model_id": "9dff1048e6e8487ab79a80c370fdd53c",
       "version_major": 2,
       "version_minor": 0
      },
      "text/plain": [
       "  0%|          | 0/1 [00:00<?, ?it/s]"
      ]
     },
     "metadata": {},
     "output_type": "display_data"
    },
    {
     "name": "stdout",
     "output_type": "stream",
     "text": [
      "转换 C:\\Users\\邓双贤\\Desktop\\Application\\Barcelona School of Economics_PhD in Statistics.docx 到 C:\\Users\\邓双贤\\Desktop\\Application\\Barcelona School of Economics_PhD in Statistics.pdf 出错（第 1 次尝试）: Word.Application.Documents，将进行第 2 次尝试。\n"
     ]
    },
    {
     "data": {
      "application/vnd.jupyter.widget-view+json": {
       "model_id": "711d4e8310244ed4887cf1fb0067e509",
       "version_major": 2,
       "version_minor": 0
      },
      "text/plain": [
       "  0%|          | 0/1 [00:00<?, ?it/s]"
      ]
     },
     "metadata": {},
     "output_type": "display_data"
    },
    {
     "name": "stdout",
     "output_type": "stream",
     "text": [
      "转换为 PDF: C:\\Users\\邓双贤\\Desktop\\Application\\Barcelona School of Economics_PhD in Statistics.pdf\n",
      "生成文件: C:\\Users\\邓双贤\\Desktop\\Application\\Columbia University_MA in Economics Department.docx\n"
     ]
    },
    {
     "data": {
      "application/vnd.jupyter.widget-view+json": {
       "model_id": "c5ed6d79465e4d469c37d7be850d7859",
       "version_major": 2,
       "version_minor": 0
      },
      "text/plain": [
       "  0%|          | 0/1 [00:00<?, ?it/s]"
      ]
     },
     "metadata": {},
     "output_type": "display_data"
    },
    {
     "name": "stdout",
     "output_type": "stream",
     "text": [
      "转换为 PDF: C:\\Users\\邓双贤\\Desktop\\Application\\Columbia University_MA in Economics Department.pdf\n",
      "生成文件: C:\\Users\\邓双贤\\Desktop\\Application\\Columbia University_MA in Data Science.docx\n"
     ]
    },
    {
     "data": {
      "application/vnd.jupyter.widget-view+json": {
       "model_id": "bddbe71bcfc249d5bdf8ee7ef2e2898f",
       "version_major": 2,
       "version_minor": 0
      },
      "text/plain": [
       "  0%|          | 0/1 [00:00<?, ?it/s]"
      ]
     },
     "metadata": {},
     "output_type": "display_data"
    },
    {
     "name": "stdout",
     "output_type": "stream",
     "text": [
      "转换为 PDF: C:\\Users\\邓双贤\\Desktop\\Application\\Columbia University_MA in Data Science.pdf\n",
      "生成文件: C:\\Users\\邓双贤\\Desktop\\Application\\Columbia University_PhD in Statistics.docx\n"
     ]
    },
    {
     "data": {
      "application/vnd.jupyter.widget-view+json": {
       "model_id": "57ff72ce88704941bcf2de1a1f2a2300",
       "version_major": 2,
       "version_minor": 0
      },
      "text/plain": [
       "  0%|          | 0/1 [00:00<?, ?it/s]"
      ]
     },
     "metadata": {},
     "output_type": "display_data"
    },
    {
     "name": "stdout",
     "output_type": "stream",
     "text": [
      "转换为 PDF: C:\\Users\\邓双贤\\Desktop\\Application\\Columbia University_PhD in Statistics.pdf\n",
      "生成文件: C:\\Users\\邓双贤\\Desktop\\Application\\New York University_MA in Economics Department.docx\n"
     ]
    },
    {
     "data": {
      "application/vnd.jupyter.widget-view+json": {
       "model_id": "2cb17e50c34c42528c7a62655ef093b9",
       "version_major": 2,
       "version_minor": 0
      },
      "text/plain": [
       "  0%|          | 0/1 [00:00<?, ?it/s]"
      ]
     },
     "metadata": {},
     "output_type": "display_data"
    },
    {
     "name": "stdout",
     "output_type": "stream",
     "text": [
      "转换 C:\\Users\\邓双贤\\Desktop\\Application\\New York University_MA in Economics Department.docx 到 C:\\Users\\邓双贤\\Desktop\\Application\\New York University_MA in Economics Department.pdf 出错（第 1 次尝试）: Word.Application.Documents，将进行第 2 次尝试。\n"
     ]
    },
    {
     "data": {
      "application/vnd.jupyter.widget-view+json": {
       "model_id": "5a2f2b9df271487da8c83eb8d67d0a9f",
       "version_major": 2,
       "version_minor": 0
      },
      "text/plain": [
       "  0%|          | 0/1 [00:00<?, ?it/s]"
      ]
     },
     "metadata": {},
     "output_type": "display_data"
    },
    {
     "name": "stdout",
     "output_type": "stream",
     "text": [
      "转换为 PDF: C:\\Users\\邓双贤\\Desktop\\Application\\New York University_MA in Economics Department.pdf\n",
      "生成文件: C:\\Users\\邓双贤\\Desktop\\Application\\New York University_MA in Data Science.docx\n"
     ]
    },
    {
     "data": {
      "application/vnd.jupyter.widget-view+json": {
       "model_id": "e981865aa8154d83a600af2a0318e094",
       "version_major": 2,
       "version_minor": 0
      },
      "text/plain": [
       "  0%|          | 0/1 [00:00<?, ?it/s]"
      ]
     },
     "metadata": {},
     "output_type": "display_data"
    },
    {
     "name": "stdout",
     "output_type": "stream",
     "text": [
      "转换为 PDF: C:\\Users\\邓双贤\\Desktop\\Application\\New York University_MA in Data Science.pdf\n",
      "生成文件: C:\\Users\\邓双贤\\Desktop\\Application\\New York University_PhD in Statistics.docx\n"
     ]
    },
    {
     "data": {
      "application/vnd.jupyter.widget-view+json": {
       "model_id": "9025f74a4900434dad4512de955be0b5",
       "version_major": 2,
       "version_minor": 0
      },
      "text/plain": [
       "  0%|          | 0/1 [00:00<?, ?it/s]"
      ]
     },
     "metadata": {},
     "output_type": "display_data"
    },
    {
     "name": "stdout",
     "output_type": "stream",
     "text": [
      "转换 C:\\Users\\邓双贤\\Desktop\\Application\\New York University_PhD in Statistics.docx 到 C:\\Users\\邓双贤\\Desktop\\Application\\New York University_PhD in Statistics.pdf 出错（第 1 次尝试）: Word.Application.Documents，将进行第 2 次尝试。\n"
     ]
    },
    {
     "data": {
      "application/vnd.jupyter.widget-view+json": {
       "model_id": "820f3b38b7c944d49d3b9b700735c980",
       "version_major": 2,
       "version_minor": 0
      },
      "text/plain": [
       "  0%|          | 0/1 [00:00<?, ?it/s]"
      ]
     },
     "metadata": {},
     "output_type": "display_data"
    },
    {
     "name": "stdout",
     "output_type": "stream",
     "text": [
      "转换为 PDF: C:\\Users\\邓双贤\\Desktop\\Application\\New York University_PhD in Statistics.pdf\n",
      "生成文件: C:\\Users\\邓双贤\\Desktop\\Application\\Brown University_MA in Economics Department.docx\n"
     ]
    },
    {
     "data": {
      "application/vnd.jupyter.widget-view+json": {
       "model_id": "9372b088d701457597691db4f4db2732",
       "version_major": 2,
       "version_minor": 0
      },
      "text/plain": [
       "  0%|          | 0/1 [00:00<?, ?it/s]"
      ]
     },
     "metadata": {},
     "output_type": "display_data"
    },
    {
     "name": "stdout",
     "output_type": "stream",
     "text": [
      "转换为 PDF: C:\\Users\\邓双贤\\Desktop\\Application\\Brown University_MA in Economics Department.pdf\n",
      "生成文件: C:\\Users\\邓双贤\\Desktop\\Application\\Brown University_MA in Data Science.docx\n"
     ]
    },
    {
     "data": {
      "application/vnd.jupyter.widget-view+json": {
       "model_id": "518f31bb551746988ac8fc2b35785c06",
       "version_major": 2,
       "version_minor": 0
      },
      "text/plain": [
       "  0%|          | 0/1 [00:00<?, ?it/s]"
      ]
     },
     "metadata": {},
     "output_type": "display_data"
    },
    {
     "name": "stdout",
     "output_type": "stream",
     "text": [
      "转换为 PDF: C:\\Users\\邓双贤\\Desktop\\Application\\Brown University_MA in Data Science.pdf\n",
      "生成文件: C:\\Users\\邓双贤\\Desktop\\Application\\Brown University_PhD in Statistics.docx\n"
     ]
    },
    {
     "data": {
      "application/vnd.jupyter.widget-view+json": {
       "model_id": "d25e6a1d4f134c198013fb42fc01d9b7",
       "version_major": 2,
       "version_minor": 0
      },
      "text/plain": [
       "  0%|          | 0/1 [00:00<?, ?it/s]"
      ]
     },
     "metadata": {},
     "output_type": "display_data"
    },
    {
     "name": "stdout",
     "output_type": "stream",
     "text": [
      "转换为 PDF: C:\\Users\\邓双贤\\Desktop\\Application\\Brown University_PhD in Statistics.pdf\n",
      "生成文件: C:\\Users\\邓双贤\\Desktop\\Application\\University of Pennsylvania_MA in Economics Department.docx\n"
     ]
    },
    {
     "data": {
      "application/vnd.jupyter.widget-view+json": {
       "model_id": "529cbf4671dd465db3ff44335f3bcd99",
       "version_major": 2,
       "version_minor": 0
      },
      "text/plain": [
       "  0%|          | 0/1 [00:00<?, ?it/s]"
      ]
     },
     "metadata": {},
     "output_type": "display_data"
    },
    {
     "name": "stdout",
     "output_type": "stream",
     "text": [
      "转换为 PDF: C:\\Users\\邓双贤\\Desktop\\Application\\University of Pennsylvania_MA in Economics Department.pdf\n",
      "生成文件: C:\\Users\\邓双贤\\Desktop\\Application\\University of Pennsylvania_MA in Data Science.docx\n"
     ]
    },
    {
     "data": {
      "application/vnd.jupyter.widget-view+json": {
       "model_id": "b9b6fd7048c3436185c2e3c023aedf13",
       "version_major": 2,
       "version_minor": 0
      },
      "text/plain": [
       "  0%|          | 0/1 [00:00<?, ?it/s]"
      ]
     },
     "metadata": {},
     "output_type": "display_data"
    },
    {
     "name": "stdout",
     "output_type": "stream",
     "text": [
      "转换为 PDF: C:\\Users\\邓双贤\\Desktop\\Application\\University of Pennsylvania_MA in Data Science.pdf\n",
      "生成文件: C:\\Users\\邓双贤\\Desktop\\Application\\University of Pennsylvania_PhD in Statistics.docx\n"
     ]
    },
    {
     "data": {
      "application/vnd.jupyter.widget-view+json": {
       "model_id": "1974cbe2c5f24a3382e4f5bf44c68329",
       "version_major": 2,
       "version_minor": 0
      },
      "text/plain": [
       "  0%|          | 0/1 [00:00<?, ?it/s]"
      ]
     },
     "metadata": {},
     "output_type": "display_data"
    },
    {
     "name": "stdout",
     "output_type": "stream",
     "text": [
      "转换 C:\\Users\\邓双贤\\Desktop\\Application\\University of Pennsylvania_PhD in Statistics.docx 到 C:\\Users\\邓双贤\\Desktop\\Application\\University of Pennsylvania_PhD in Statistics.pdf 出错（第 1 次尝试）: Word.Application.Documents，将进行第 2 次尝试。\n"
     ]
    },
    {
     "data": {
      "application/vnd.jupyter.widget-view+json": {
       "model_id": "3c67be6969b243a69de01a603d10eb45",
       "version_major": 2,
       "version_minor": 0
      },
      "text/plain": [
       "  0%|          | 0/1 [00:00<?, ?it/s]"
      ]
     },
     "metadata": {},
     "output_type": "display_data"
    },
    {
     "name": "stdout",
     "output_type": "stream",
     "text": [
      "转换为 PDF: C:\\Users\\邓双贤\\Desktop\\Application\\University of Pennsylvania_PhD in Statistics.pdf\n",
      "生成文件: C:\\Users\\邓双贤\\Desktop\\Application\\Boston University_MA in Economics Department.docx\n"
     ]
    },
    {
     "data": {
      "application/vnd.jupyter.widget-view+json": {
       "model_id": "22dfa285f63b44d0aa59ec93a1272232",
       "version_major": 2,
       "version_minor": 0
      },
      "text/plain": [
       "  0%|          | 0/1 [00:00<?, ?it/s]"
      ]
     },
     "metadata": {},
     "output_type": "display_data"
    },
    {
     "name": "stdout",
     "output_type": "stream",
     "text": [
      "转换为 PDF: C:\\Users\\邓双贤\\Desktop\\Application\\Boston University_MA in Economics Department.pdf\n",
      "生成文件: C:\\Users\\邓双贤\\Desktop\\Application\\Boston University_MA in Data Science.docx\n"
     ]
    },
    {
     "data": {
      "application/vnd.jupyter.widget-view+json": {
       "model_id": "e64a3e0b1eb14934ae85b7383ceff5b1",
       "version_major": 2,
       "version_minor": 0
      },
      "text/plain": [
       "  0%|          | 0/1 [00:00<?, ?it/s]"
      ]
     },
     "metadata": {},
     "output_type": "display_data"
    },
    {
     "name": "stdout",
     "output_type": "stream",
     "text": [
      "转换 C:\\Users\\邓双贤\\Desktop\\Application\\Boston University_MA in Data Science.docx 到 C:\\Users\\邓双贤\\Desktop\\Application\\Boston University_MA in Data Science.pdf 出错（第 1 次尝试）: Word.Application.Documents，将进行第 2 次尝试。\n"
     ]
    },
    {
     "data": {
      "application/vnd.jupyter.widget-view+json": {
       "model_id": "09cb3293b01a4e7783fb92a31aea525f",
       "version_major": 2,
       "version_minor": 0
      },
      "text/plain": [
       "  0%|          | 0/1 [00:00<?, ?it/s]"
      ]
     },
     "metadata": {},
     "output_type": "display_data"
    },
    {
     "name": "stdout",
     "output_type": "stream",
     "text": [
      "转换为 PDF: C:\\Users\\邓双贤\\Desktop\\Application\\Boston University_MA in Data Science.pdf\n",
      "生成文件: C:\\Users\\邓双贤\\Desktop\\Application\\Boston University_PhD in Statistics.docx\n"
     ]
    },
    {
     "data": {
      "application/vnd.jupyter.widget-view+json": {
       "model_id": "fff95e1d2bf74d8f9fd3168da35ca518",
       "version_major": 2,
       "version_minor": 0
      },
      "text/plain": [
       "  0%|          | 0/1 [00:00<?, ?it/s]"
      ]
     },
     "metadata": {},
     "output_type": "display_data"
    },
    {
     "name": "stdout",
     "output_type": "stream",
     "text": [
      "转换为 PDF: C:\\Users\\邓双贤\\Desktop\\Application\\Boston University_PhD in Statistics.pdf\n",
      "生成文件: C:\\Users\\邓双贤\\Desktop\\Application\\London School of Economics_MA in Economics Department.docx\n"
     ]
    },
    {
     "data": {
      "application/vnd.jupyter.widget-view+json": {
       "model_id": "03dd07635cb74e0eb914debf8fda4216",
       "version_major": 2,
       "version_minor": 0
      },
      "text/plain": [
       "  0%|          | 0/1 [00:00<?, ?it/s]"
      ]
     },
     "metadata": {},
     "output_type": "display_data"
    },
    {
     "name": "stdout",
     "output_type": "stream",
     "text": [
      "转换为 PDF: C:\\Users\\邓双贤\\Desktop\\Application\\London School of Economics_MA in Economics Department.pdf\n",
      "生成文件: C:\\Users\\邓双贤\\Desktop\\Application\\London School of Economics_MA in Data Science.docx\n"
     ]
    },
    {
     "data": {
      "application/vnd.jupyter.widget-view+json": {
       "model_id": "11054dbe013441e8b47acc3c1bb3f3fb",
       "version_major": 2,
       "version_minor": 0
      },
      "text/plain": [
       "  0%|          | 0/1 [00:00<?, ?it/s]"
      ]
     },
     "metadata": {},
     "output_type": "display_data"
    },
    {
     "name": "stdout",
     "output_type": "stream",
     "text": [
      "转换为 PDF: C:\\Users\\邓双贤\\Desktop\\Application\\London School of Economics_MA in Data Science.pdf\n",
      "生成文件: C:\\Users\\邓双贤\\Desktop\\Application\\London School of Economics_PhD in Statistics.docx\n"
     ]
    },
    {
     "data": {
      "application/vnd.jupyter.widget-view+json": {
       "model_id": "0ed555861dd34ea28a9cf1cb9bbda39a",
       "version_major": 2,
       "version_minor": 0
      },
      "text/plain": [
       "  0%|          | 0/1 [00:00<?, ?it/s]"
      ]
     },
     "metadata": {},
     "output_type": "display_data"
    },
    {
     "name": "stdout",
     "output_type": "stream",
     "text": [
      "转换 C:\\Users\\邓双贤\\Desktop\\Application\\London School of Economics_PhD in Statistics.docx 到 C:\\Users\\邓双贤\\Desktop\\Application\\London School of Economics_PhD in Statistics.pdf 出错（第 1 次尝试）: Word.Application.Documents，将进行第 2 次尝试。\n"
     ]
    },
    {
     "data": {
      "application/vnd.jupyter.widget-view+json": {
       "model_id": "b1280edca4fb4e88bb89024efdc6a69c",
       "version_major": 2,
       "version_minor": 0
      },
      "text/plain": [
       "  0%|          | 0/1 [00:00<?, ?it/s]"
      ]
     },
     "metadata": {},
     "output_type": "display_data"
    },
    {
     "name": "stdout",
     "output_type": "stream",
     "text": [
      "转换为 PDF: C:\\Users\\邓双贤\\Desktop\\Application\\London School of Economics_PhD in Statistics.pdf\n",
      "生成文件: C:\\Users\\邓双贤\\Desktop\\Application\\University College London_MA in Economics Department.docx\n"
     ]
    },
    {
     "data": {
      "application/vnd.jupyter.widget-view+json": {
       "model_id": "61cd4e5ea3d54407b464a5ae659fc656",
       "version_major": 2,
       "version_minor": 0
      },
      "text/plain": [
       "  0%|          | 0/1 [00:00<?, ?it/s]"
      ]
     },
     "metadata": {},
     "output_type": "display_data"
    },
    {
     "name": "stdout",
     "output_type": "stream",
     "text": [
      "转换为 PDF: C:\\Users\\邓双贤\\Desktop\\Application\\University College London_MA in Economics Department.pdf\n",
      "生成文件: C:\\Users\\邓双贤\\Desktop\\Application\\University College London_MA in Data Science.docx\n"
     ]
    },
    {
     "data": {
      "application/vnd.jupyter.widget-view+json": {
       "model_id": "c8b0807c263e4e0a80973f7ebc8d955d",
       "version_major": 2,
       "version_minor": 0
      },
      "text/plain": [
       "  0%|          | 0/1 [00:00<?, ?it/s]"
      ]
     },
     "metadata": {},
     "output_type": "display_data"
    },
    {
     "name": "stdout",
     "output_type": "stream",
     "text": [
      "转换为 PDF: C:\\Users\\邓双贤\\Desktop\\Application\\University College London_MA in Data Science.pdf\n",
      "生成文件: C:\\Users\\邓双贤\\Desktop\\Application\\University College London_PhD in Statistics.docx\n"
     ]
    },
    {
     "data": {
      "application/vnd.jupyter.widget-view+json": {
       "model_id": "1fb28ca4523c4d37a84219c8247aafda",
       "version_major": 2,
       "version_minor": 0
      },
      "text/plain": [
       "  0%|          | 0/1 [00:00<?, ?it/s]"
      ]
     },
     "metadata": {},
     "output_type": "display_data"
    },
    {
     "name": "stdout",
     "output_type": "stream",
     "text": [
      "转换为 PDF: C:\\Users\\邓双贤\\Desktop\\Application\\University College London_PhD in Statistics.pdf\n",
      "生成文件: C:\\Users\\邓双贤\\Desktop\\Application\\University of California - San Diego_MA in Economics Department.docx\n"
     ]
    },
    {
     "data": {
      "application/vnd.jupyter.widget-view+json": {
       "model_id": "43c60e53cf1c4faa9c9dd3d9e71471fd",
       "version_major": 2,
       "version_minor": 0
      },
      "text/plain": [
       "  0%|          | 0/1 [00:00<?, ?it/s]"
      ]
     },
     "metadata": {},
     "output_type": "display_data"
    },
    {
     "name": "stdout",
     "output_type": "stream",
     "text": [
      "转换 C:\\Users\\邓双贤\\Desktop\\Application\\University of California - San Diego_MA in Economics Department.docx 到 C:\\Users\\邓双贤\\Desktop\\Application\\University of California - San Diego_MA in Economics Department.pdf 出错（第 1 次尝试）: Word.Application.Documents，将进行第 2 次尝试。\n"
     ]
    },
    {
     "data": {
      "application/vnd.jupyter.widget-view+json": {
       "model_id": "77350278c3154dc9bb836ef92040c087",
       "version_major": 2,
       "version_minor": 0
      },
      "text/plain": [
       "  0%|          | 0/1 [00:00<?, ?it/s]"
      ]
     },
     "metadata": {},
     "output_type": "display_data"
    },
    {
     "name": "stdout",
     "output_type": "stream",
     "text": [
      "转换为 PDF: C:\\Users\\邓双贤\\Desktop\\Application\\University of California - San Diego_MA in Economics Department.pdf\n",
      "生成文件: C:\\Users\\邓双贤\\Desktop\\Application\\University of California - San Diego_MA in Data Science.docx\n"
     ]
    },
    {
     "data": {
      "application/vnd.jupyter.widget-view+json": {
       "model_id": "6eee42d230254db9952b5c320eb8d4ce",
       "version_major": 2,
       "version_minor": 0
      },
      "text/plain": [
       "  0%|          | 0/1 [00:00<?, ?it/s]"
      ]
     },
     "metadata": {},
     "output_type": "display_data"
    },
    {
     "name": "stdout",
     "output_type": "stream",
     "text": [
      "转换为 PDF: C:\\Users\\邓双贤\\Desktop\\Application\\University of California - San Diego_MA in Data Science.pdf\n",
      "生成文件: C:\\Users\\邓双贤\\Desktop\\Application\\University of California - San Diego_PhD in Statistics.docx\n"
     ]
    },
    {
     "data": {
      "application/vnd.jupyter.widget-view+json": {
       "model_id": "388c0d69e76d4337ab5c91a55ada8a54",
       "version_major": 2,
       "version_minor": 0
      },
      "text/plain": [
       "  0%|          | 0/1 [00:00<?, ?it/s]"
      ]
     },
     "metadata": {},
     "output_type": "display_data"
    },
    {
     "name": "stdout",
     "output_type": "stream",
     "text": [
      "转换为 PDF: C:\\Users\\邓双贤\\Desktop\\Application\\University of California - San Diego_PhD in Statistics.pdf\n",
      "生成文件: C:\\Users\\邓双贤\\Desktop\\Application\\Northwestern University_MA in Economics Department.docx\n"
     ]
    },
    {
     "data": {
      "application/vnd.jupyter.widget-view+json": {
       "model_id": "71cd72115c6f41728764545d9e9a8da8",
       "version_major": 2,
       "version_minor": 0
      },
      "text/plain": [
       "  0%|          | 0/1 [00:00<?, ?it/s]"
      ]
     },
     "metadata": {},
     "output_type": "display_data"
    },
    {
     "name": "stdout",
     "output_type": "stream",
     "text": [
      "转换为 PDF: C:\\Users\\邓双贤\\Desktop\\Application\\Northwestern University_MA in Economics Department.pdf\n",
      "生成文件: C:\\Users\\邓双贤\\Desktop\\Application\\Northwestern University_MA in Data Science.docx\n"
     ]
    },
    {
     "data": {
      "application/vnd.jupyter.widget-view+json": {
       "model_id": "71adfea977f2450e87e453734616f16b",
       "version_major": 2,
       "version_minor": 0
      },
      "text/plain": [
       "  0%|          | 0/1 [00:00<?, ?it/s]"
      ]
     },
     "metadata": {},
     "output_type": "display_data"
    },
    {
     "name": "stdout",
     "output_type": "stream",
     "text": [
      "转换 C:\\Users\\邓双贤\\Desktop\\Application\\Northwestern University_MA in Data Science.docx 到 C:\\Users\\邓双贤\\Desktop\\Application\\Northwestern University_MA in Data Science.pdf 出错（第 1 次尝试）: Word.Application.Documents，将进行第 2 次尝试。\n"
     ]
    },
    {
     "data": {
      "application/vnd.jupyter.widget-view+json": {
       "model_id": "8046d7499e124022a11378388d3e7b43",
       "version_major": 2,
       "version_minor": 0
      },
      "text/plain": [
       "  0%|          | 0/1 [00:00<?, ?it/s]"
      ]
     },
     "metadata": {},
     "output_type": "display_data"
    },
    {
     "name": "stdout",
     "output_type": "stream",
     "text": [
      "转换为 PDF: C:\\Users\\邓双贤\\Desktop\\Application\\Northwestern University_MA in Data Science.pdf\n",
      "生成文件: C:\\Users\\邓双贤\\Desktop\\Application\\Northwestern University_PhD in Statistics.docx\n"
     ]
    },
    {
     "data": {
      "application/vnd.jupyter.widget-view+json": {
       "model_id": "88c6f8a49c3847638ab96cddcff60334",
       "version_major": 2,
       "version_minor": 0
      },
      "text/plain": [
       "  0%|          | 0/1 [00:00<?, ?it/s]"
      ]
     },
     "metadata": {},
     "output_type": "display_data"
    },
    {
     "name": "stdout",
     "output_type": "stream",
     "text": [
      "转换 C:\\Users\\邓双贤\\Desktop\\Application\\Northwestern University_PhD in Statistics.docx 到 C:\\Users\\邓双贤\\Desktop\\Application\\Northwestern University_PhD in Statistics.pdf 出错（第 1 次尝试）: Word.Application.Quit，将进行第 2 次尝试。\n"
     ]
    },
    {
     "data": {
      "application/vnd.jupyter.widget-view+json": {
       "model_id": "77cbb18a58fd42e3be9284c67b3ce989",
       "version_major": 2,
       "version_minor": 0
      },
      "text/plain": [
       "  0%|          | 0/1 [00:00<?, ?it/s]"
      ]
     },
     "metadata": {},
     "output_type": "display_data"
    },
    {
     "name": "stderr",
     "output_type": "stream",
     "text": [
      "Exception in thread Thread-5:\n",
      "Traceback (most recent call last):\n",
      "  File \"C:\\anaconda3\\Lib\\threading.py\", line 1073, in _bootstrap_inner\n",
      "    self.run()\n",
      "  File \"C:\\anaconda3\\Lib\\site-packages\\tqdm\\_monitor.py\", line 69, in run\n",
      "    instances = self.get_instances()\n",
      "                ^^^^^^^^^^^^^^^^^^^^\n",
      "  File \"C:\\anaconda3\\Lib\\site-packages\\tqdm\\_monitor.py\", line 49, in get_instances\n",
      "    return [i for i in self.tqdm_cls._instances.copy()\n",
      "                       ^^^^^^^^^^^^^^^^^^^^^^^^^^^^^^^\n",
      "  File \"C:\\anaconda3\\Lib\\_weakrefset.py\", line 96, in copy\n",
      "    return self.__class__(self)\n",
      "           ^^^^^^^^^^^^^^^^^^^^\n",
      "  File \"C:\\anaconda3\\Lib\\_weakrefset.py\", line 51, in __init__\n",
      "    self.update(data)\n",
      "  File \"C:\\anaconda3\\Lib\\_weakrefset.py\", line 123, in update\n",
      "    for element in other:\n",
      "  File \"C:\\anaconda3\\Lib\\_weakrefset.py\", line 65, in __iter__\n",
      "    for itemref in self.data:\n",
      "RuntimeError: Set changed size during iteration\n"
     ]
    },
    {
     "name": "stdout",
     "output_type": "stream",
     "text": [
      "转换为 PDF: C:\\Users\\邓双贤\\Desktop\\Application\\Northwestern University_PhD in Statistics.pdf\n",
      "生成文件: C:\\Users\\邓双贤\\Desktop\\Application\\Dartmouth College_MA in Economics Department.docx\n"
     ]
    },
    {
     "data": {
      "application/vnd.jupyter.widget-view+json": {
       "model_id": "23f2eb51a49c4c669a3ffc0ff1d59b5c",
       "version_major": 2,
       "version_minor": 0
      },
      "text/plain": [
       "  0%|          | 0/1 [00:00<?, ?it/s]"
      ]
     },
     "metadata": {},
     "output_type": "display_data"
    },
    {
     "name": "stdout",
     "output_type": "stream",
     "text": [
      "转换为 PDF: C:\\Users\\邓双贤\\Desktop\\Application\\Dartmouth College_MA in Economics Department.pdf\n",
      "生成文件: C:\\Users\\邓双贤\\Desktop\\Application\\Dartmouth College_MA in Data Science.docx\n"
     ]
    },
    {
     "data": {
      "application/vnd.jupyter.widget-view+json": {
       "model_id": "f1ad9a9cb6934007aba2c9a252e3592d",
       "version_major": 2,
       "version_minor": 0
      },
      "text/plain": [
       "  0%|          | 0/1 [00:00<?, ?it/s]"
      ]
     },
     "metadata": {},
     "output_type": "display_data"
    },
    {
     "name": "stdout",
     "output_type": "stream",
     "text": [
      "转换为 PDF: C:\\Users\\邓双贤\\Desktop\\Application\\Dartmouth College_MA in Data Science.pdf\n",
      "生成文件: C:\\Users\\邓双贤\\Desktop\\Application\\Dartmouth College_PhD in Statistics.docx\n"
     ]
    },
    {
     "data": {
      "application/vnd.jupyter.widget-view+json": {
       "model_id": "c5d3b8e94aee462aa63cf44edc7b5135",
       "version_major": 2,
       "version_minor": 0
      },
      "text/plain": [
       "  0%|          | 0/1 [00:00<?, ?it/s]"
      ]
     },
     "metadata": {},
     "output_type": "display_data"
    },
    {
     "name": "stdout",
     "output_type": "stream",
     "text": [
      "转换为 PDF: C:\\Users\\邓双贤\\Desktop\\Application\\Dartmouth College_PhD in Statistics.pdf\n",
      "生成文件: C:\\Users\\邓双贤\\Desktop\\Application\\University of Michigan_MA in Economics Department.docx\n"
     ]
    },
    {
     "data": {
      "application/vnd.jupyter.widget-view+json": {
       "model_id": "a931c4be9e984c25809a93c9344b8589",
       "version_major": 2,
       "version_minor": 0
      },
      "text/plain": [
       "  0%|          | 0/1 [00:00<?, ?it/s]"
      ]
     },
     "metadata": {},
     "output_type": "display_data"
    },
    {
     "name": "stdout",
     "output_type": "stream",
     "text": [
      "转换 C:\\Users\\邓双贤\\Desktop\\Application\\University of Michigan_MA in Economics Department.docx 到 C:\\Users\\邓双贤\\Desktop\\Application\\University of Michigan_MA in Economics Department.pdf 出错（第 1 次尝试）: Word.Application.Documents，将进行第 2 次尝试。\n"
     ]
    },
    {
     "data": {
      "application/vnd.jupyter.widget-view+json": {
       "model_id": "5ae2c25a5fdc40e086d7fe16d393417d",
       "version_major": 2,
       "version_minor": 0
      },
      "text/plain": [
       "  0%|          | 0/1 [00:00<?, ?it/s]"
      ]
     },
     "metadata": {},
     "output_type": "display_data"
    },
    {
     "name": "stdout",
     "output_type": "stream",
     "text": [
      "转换为 PDF: C:\\Users\\邓双贤\\Desktop\\Application\\University of Michigan_MA in Economics Department.pdf\n",
      "生成文件: C:\\Users\\邓双贤\\Desktop\\Application\\University of Michigan_MA in Data Science.docx\n"
     ]
    },
    {
     "data": {
      "application/vnd.jupyter.widget-view+json": {
       "model_id": "3bfe0c497b454f38a7750d65ef2de487",
       "version_major": 2,
       "version_minor": 0
      },
      "text/plain": [
       "  0%|          | 0/1 [00:00<?, ?it/s]"
      ]
     },
     "metadata": {},
     "output_type": "display_data"
    },
    {
     "name": "stdout",
     "output_type": "stream",
     "text": [
      "转换为 PDF: C:\\Users\\邓双贤\\Desktop\\Application\\University of Michigan_MA in Data Science.pdf\n",
      "生成文件: C:\\Users\\邓双贤\\Desktop\\Application\\University of Michigan_PhD in Statistics.docx\n"
     ]
    },
    {
     "data": {
      "application/vnd.jupyter.widget-view+json": {
       "model_id": "4d4ec6efa66046a8b0289cf3d0426b2f",
       "version_major": 2,
       "version_minor": 0
      },
      "text/plain": [
       "  0%|          | 0/1 [00:00<?, ?it/s]"
      ]
     },
     "metadata": {},
     "output_type": "display_data"
    },
    {
     "name": "stdout",
     "output_type": "stream",
     "text": [
      "转换 C:\\Users\\邓双贤\\Desktop\\Application\\University of Michigan_PhD in Statistics.docx 到 C:\\Users\\邓双贤\\Desktop\\Application\\University of Michigan_PhD in Statistics.pdf 出错（第 1 次尝试）: Word.Application.Documents，将进行第 2 次尝试。\n"
     ]
    },
    {
     "data": {
      "application/vnd.jupyter.widget-view+json": {
       "model_id": "1b924b8b5afb4634b419ae4575609ffb",
       "version_major": 2,
       "version_minor": 0
      },
      "text/plain": [
       "  0%|          | 0/1 [00:00<?, ?it/s]"
      ]
     },
     "metadata": {},
     "output_type": "display_data"
    },
    {
     "name": "stdout",
     "output_type": "stream",
     "text": [
      "转换为 PDF: C:\\Users\\邓双贤\\Desktop\\Application\\University of Michigan_PhD in Statistics.pdf\n",
      "生成文件: C:\\Users\\邓双贤\\Desktop\\Application\\Universiteit van Tilburg_MA in Economics Department.docx\n"
     ]
    },
    {
     "data": {
      "application/vnd.jupyter.widget-view+json": {
       "model_id": "993c20b8f76f49448a63f895d8506d36",
       "version_major": 2,
       "version_minor": 0
      },
      "text/plain": [
       "  0%|          | 0/1 [00:00<?, ?it/s]"
      ]
     },
     "metadata": {},
     "output_type": "display_data"
    },
    {
     "name": "stdout",
     "output_type": "stream",
     "text": [
      "转换为 PDF: C:\\Users\\邓双贤\\Desktop\\Application\\Universiteit van Tilburg_MA in Economics Department.pdf\n",
      "生成文件: C:\\Users\\邓双贤\\Desktop\\Application\\Universiteit van Tilburg_MA in Data Science.docx\n"
     ]
    },
    {
     "data": {
      "application/vnd.jupyter.widget-view+json": {
       "model_id": "14e41bd1686a439c965bb94cade349ca",
       "version_major": 2,
       "version_minor": 0
      },
      "text/plain": [
       "  0%|          | 0/1 [00:00<?, ?it/s]"
      ]
     },
     "metadata": {},
     "output_type": "display_data"
    },
    {
     "name": "stdout",
     "output_type": "stream",
     "text": [
      "转换 C:\\Users\\邓双贤\\Desktop\\Application\\Universiteit van Tilburg_MA in Data Science.docx 到 C:\\Users\\邓双贤\\Desktop\\Application\\Universiteit van Tilburg_MA in Data Science.pdf 出错（第 1 次尝试）: Word.Application.Documents，将进行第 2 次尝试。\n"
     ]
    },
    {
     "data": {
      "application/vnd.jupyter.widget-view+json": {
       "model_id": "2853924ec47c4898b9f8c2ec41530328",
       "version_major": 2,
       "version_minor": 0
      },
      "text/plain": [
       "  0%|          | 0/1 [00:00<?, ?it/s]"
      ]
     },
     "metadata": {},
     "output_type": "display_data"
    },
    {
     "name": "stdout",
     "output_type": "stream",
     "text": [
      "转换为 PDF: C:\\Users\\邓双贤\\Desktop\\Application\\Universiteit van Tilburg_MA in Data Science.pdf\n",
      "生成文件: C:\\Users\\邓双贤\\Desktop\\Application\\Universiteit van Tilburg_PhD in Statistics.docx\n"
     ]
    },
    {
     "data": {
      "application/vnd.jupyter.widget-view+json": {
       "model_id": "2dcb6ebb89d2403fa6c09c7fe12f3fa8",
       "version_major": 2,
       "version_minor": 0
      },
      "text/plain": [
       "  0%|          | 0/1 [00:00<?, ?it/s]"
      ]
     },
     "metadata": {},
     "output_type": "display_data"
    },
    {
     "name": "stdout",
     "output_type": "stream",
     "text": [
      "转换为 PDF: C:\\Users\\邓双贤\\Desktop\\Application\\Universiteit van Tilburg_PhD in Statistics.pdf\n",
      "生成文件: C:\\Users\\邓双贤\\Desktop\\Application\\University of California - Los Angeles_MA in Economics Department.docx\n"
     ]
    },
    {
     "data": {
      "application/vnd.jupyter.widget-view+json": {
       "model_id": "9518336fd888447fb9fb7a387e2d9e18",
       "version_major": 2,
       "version_minor": 0
      },
      "text/plain": [
       "  0%|          | 0/1 [00:00<?, ?it/s]"
      ]
     },
     "metadata": {},
     "output_type": "display_data"
    },
    {
     "name": "stdout",
     "output_type": "stream",
     "text": [
      "转换为 PDF: C:\\Users\\邓双贤\\Desktop\\Application\\University of California - Los Angeles_MA in Economics Department.pdf\n",
      "生成文件: C:\\Users\\邓双贤\\Desktop\\Application\\University of California - Los Angeles_MA in Data Science.docx\n"
     ]
    },
    {
     "data": {
      "application/vnd.jupyter.widget-view+json": {
       "model_id": "58e211681e2743f69e184a580c63e5b1",
       "version_major": 2,
       "version_minor": 0
      },
      "text/plain": [
       "  0%|          | 0/1 [00:00<?, ?it/s]"
      ]
     },
     "metadata": {},
     "output_type": "display_data"
    },
    {
     "name": "stdout",
     "output_type": "stream",
     "text": [
      "转换为 PDF: C:\\Users\\邓双贤\\Desktop\\Application\\University of California - Los Angeles_MA in Data Science.pdf\n",
      "生成文件: C:\\Users\\邓双贤\\Desktop\\Application\\University of California - Los Angeles_PhD in Statistics.docx\n"
     ]
    },
    {
     "data": {
      "application/vnd.jupyter.widget-view+json": {
       "model_id": "524289406a4d4ced93a9f25a889bd289",
       "version_major": 2,
       "version_minor": 0
      },
      "text/plain": [
       "  0%|          | 0/1 [00:00<?, ?it/s]"
      ]
     },
     "metadata": {},
     "output_type": "display_data"
    },
    {
     "name": "stdout",
     "output_type": "stream",
     "text": [
      "转换为 PDF: C:\\Users\\邓双贤\\Desktop\\Application\\University of California - Los Angeles_PhD in Statistics.pdf\n",
      "生成文件: C:\\Users\\邓双贤\\Desktop\\Application\\Graduate School of Business, Columbia University_MA in Economics Department.docx\n"
     ]
    },
    {
     "data": {
      "application/vnd.jupyter.widget-view+json": {
       "model_id": "8ed7accaefaf4611ad51c368fbc01941",
       "version_major": 2,
       "version_minor": 0
      },
      "text/plain": [
       "  0%|          | 0/1 [00:00<?, ?it/s]"
      ]
     },
     "metadata": {},
     "output_type": "display_data"
    },
    {
     "name": "stdout",
     "output_type": "stream",
     "text": [
      "转换为 PDF: C:\\Users\\邓双贤\\Desktop\\Application\\Graduate School of Business, Columbia University_MA in Economics Department.pdf\n",
      "生成文件: C:\\Users\\邓双贤\\Desktop\\Application\\Graduate School of Business, Columbia University_MA in Data Science.docx\n"
     ]
    },
    {
     "data": {
      "application/vnd.jupyter.widget-view+json": {
       "model_id": "7273b85b949745039ef73672cd888c21",
       "version_major": 2,
       "version_minor": 0
      },
      "text/plain": [
       "  0%|          | 0/1 [00:00<?, ?it/s]"
      ]
     },
     "metadata": {},
     "output_type": "display_data"
    },
    {
     "name": "stdout",
     "output_type": "stream",
     "text": [
      "转换 C:\\Users\\邓双贤\\Desktop\\Application\\Graduate School of Business, Columbia University_MA in Data Science.docx 到 C:\\Users\\邓双贤\\Desktop\\Application\\Graduate School of Business, Columbia University_MA in Data Science.pdf 出错（第 1 次尝试）: Word.Application.Documents，将进行第 2 次尝试。\n"
     ]
    },
    {
     "data": {
      "application/vnd.jupyter.widget-view+json": {
       "model_id": "9bab94546518415181e9dd2f31d3b682",
       "version_major": 2,
       "version_minor": 0
      },
      "text/plain": [
       "  0%|          | 0/1 [00:00<?, ?it/s]"
      ]
     },
     "metadata": {},
     "output_type": "display_data"
    },
    {
     "name": "stdout",
     "output_type": "stream",
     "text": [
      "转换为 PDF: C:\\Users\\邓双贤\\Desktop\\Application\\Graduate School of Business, Columbia University_MA in Data Science.pdf\n",
      "生成文件: C:\\Users\\邓双贤\\Desktop\\Application\\Graduate School of Business, Columbia University_PhD in Statistics.docx\n"
     ]
    },
    {
     "data": {
      "application/vnd.jupyter.widget-view+json": {
       "model_id": "4a5ed964aefe420582a2be6e9562d19a",
       "version_major": 2,
       "version_minor": 0
      },
      "text/plain": [
       "  0%|          | 0/1 [00:00<?, ?it/s]"
      ]
     },
     "metadata": {},
     "output_type": "display_data"
    },
    {
     "name": "stdout",
     "output_type": "stream",
     "text": [
      "转换为 PDF: C:\\Users\\邓双贤\\Desktop\\Application\\Graduate School of Business, Columbia University_PhD in Statistics.pdf\n",
      "生成文件: C:\\Users\\邓双贤\\Desktop\\Application\\University of Southern California_MA in Economics Department.docx\n"
     ]
    },
    {
     "data": {
      "application/vnd.jupyter.widget-view+json": {
       "model_id": "392c8c0611db4fd6821f56b395e63e74",
       "version_major": 2,
       "version_minor": 0
      },
      "text/plain": [
       "  0%|          | 0/1 [00:00<?, ?it/s]"
      ]
     },
     "metadata": {},
     "output_type": "display_data"
    },
    {
     "name": "stdout",
     "output_type": "stream",
     "text": [
      "转换 C:\\Users\\邓双贤\\Desktop\\Application\\University of Southern California_MA in Economics Department.docx 到 C:\\Users\\邓双贤\\Desktop\\Application\\University of Southern California_MA in Economics Department.pdf 出错（第 1 次尝试）: Word.Application.Documents，将进行第 2 次尝试。\n"
     ]
    },
    {
     "data": {
      "application/vnd.jupyter.widget-view+json": {
       "model_id": "f04c64c524814cbe8a6c3fc14867ee1c",
       "version_major": 2,
       "version_minor": 0
      },
      "text/plain": [
       "  0%|          | 0/1 [00:00<?, ?it/s]"
      ]
     },
     "metadata": {},
     "output_type": "display_data"
    },
    {
     "name": "stdout",
     "output_type": "stream",
     "text": [
      "转换为 PDF: C:\\Users\\邓双贤\\Desktop\\Application\\University of Southern California_MA in Economics Department.pdf\n",
      "生成文件: C:\\Users\\邓双贤\\Desktop\\Application\\University of Southern California_MA in Data Science.docx\n"
     ]
    },
    {
     "data": {
      "application/vnd.jupyter.widget-view+json": {
       "model_id": "b66dfb6ebbd1478aa1773a42954c6a1d",
       "version_major": 2,
       "version_minor": 0
      },
      "text/plain": [
       "  0%|          | 0/1 [00:00<?, ?it/s]"
      ]
     },
     "metadata": {},
     "output_type": "display_data"
    },
    {
     "name": "stdout",
     "output_type": "stream",
     "text": [
      "转换为 PDF: C:\\Users\\邓双贤\\Desktop\\Application\\University of Southern California_MA in Data Science.pdf\n",
      "生成文件: C:\\Users\\邓双贤\\Desktop\\Application\\University of Southern California_PhD in Statistics.docx\n"
     ]
    },
    {
     "data": {
      "application/vnd.jupyter.widget-view+json": {
       "model_id": "e2981ec08a674747b3bc4630ed5c79b5",
       "version_major": 2,
       "version_minor": 0
      },
      "text/plain": [
       "  0%|          | 0/1 [00:00<?, ?it/s]"
      ]
     },
     "metadata": {},
     "output_type": "display_data"
    },
    {
     "name": "stdout",
     "output_type": "stream",
     "text": [
      "转换为 PDF: C:\\Users\\邓双贤\\Desktop\\Application\\University of Southern California_PhD in Statistics.pdf\n",
      "生成文件: C:\\Users\\邓双贤\\Desktop\\Application\\University of British Columbia_MA in Economics Department.docx\n"
     ]
    },
    {
     "data": {
      "application/vnd.jupyter.widget-view+json": {
       "model_id": "4c405170308a43c08e2bfb212ee0a437",
       "version_major": 2,
       "version_minor": 0
      },
      "text/plain": [
       "  0%|          | 0/1 [00:00<?, ?it/s]"
      ]
     },
     "metadata": {},
     "output_type": "display_data"
    },
    {
     "name": "stdout",
     "output_type": "stream",
     "text": [
      "转换为 PDF: C:\\Users\\邓双贤\\Desktop\\Application\\University of British Columbia_MA in Economics Department.pdf\n",
      "生成文件: C:\\Users\\邓双贤\\Desktop\\Application\\University of British Columbia_MA in Data Science.docx\n"
     ]
    },
    {
     "data": {
      "application/vnd.jupyter.widget-view+json": {
       "model_id": "02447ddc20954273b6766b39fcbc04ee",
       "version_major": 2,
       "version_minor": 0
      },
      "text/plain": [
       "  0%|          | 0/1 [00:00<?, ?it/s]"
      ]
     },
     "metadata": {},
     "output_type": "display_data"
    },
    {
     "name": "stdout",
     "output_type": "stream",
     "text": [
      "转换 C:\\Users\\邓双贤\\Desktop\\Application\\University of British Columbia_MA in Data Science.docx 到 C:\\Users\\邓双贤\\Desktop\\Application\\University of British Columbia_MA in Data Science.pdf 出错（第 1 次尝试）: Word.Application.Documents，将进行第 2 次尝试。\n"
     ]
    },
    {
     "data": {
      "application/vnd.jupyter.widget-view+json": {
       "model_id": "f90ac8b74b49453e913d848b50bac3dd",
       "version_major": 2,
       "version_minor": 0
      },
      "text/plain": [
       "  0%|          | 0/1 [00:00<?, ?it/s]"
      ]
     },
     "metadata": {},
     "output_type": "display_data"
    },
    {
     "name": "stdout",
     "output_type": "stream",
     "text": [
      "转换为 PDF: C:\\Users\\邓双贤\\Desktop\\Application\\University of British Columbia_MA in Data Science.pdf\n",
      "生成文件: C:\\Users\\邓双贤\\Desktop\\Application\\University of British Columbia_PhD in Statistics.docx\n"
     ]
    },
    {
     "data": {
      "application/vnd.jupyter.widget-view+json": {
       "model_id": "2dd71db9a28b47d3a4a2bdf7ebd0d467",
       "version_major": 2,
       "version_minor": 0
      },
      "text/plain": [
       "  0%|          | 0/1 [00:00<?, ?it/s]"
      ]
     },
     "metadata": {},
     "output_type": "display_data"
    },
    {
     "name": "stdout",
     "output_type": "stream",
     "text": [
      "转换 C:\\Users\\邓双贤\\Desktop\\Application\\University of British Columbia_PhD in Statistics.docx 到 C:\\Users\\邓双贤\\Desktop\\Application\\University of British Columbia_PhD in Statistics.pdf 出错（第 1 次尝试）: Word.Application.Quit，将进行第 2 次尝试。\n"
     ]
    },
    {
     "data": {
      "application/vnd.jupyter.widget-view+json": {
       "model_id": "12deea6778914eb7ab9dfc436884abeb",
       "version_major": 2,
       "version_minor": 0
      },
      "text/plain": [
       "  0%|          | 0/1 [00:00<?, ?it/s]"
      ]
     },
     "metadata": {},
     "output_type": "display_data"
    },
    {
     "name": "stdout",
     "output_type": "stream",
     "text": [
      "转换为 PDF: C:\\Users\\邓双贤\\Desktop\\Application\\University of British Columbia_PhD in Statistics.pdf\n",
      "生成文件: C:\\Users\\邓双贤\\Desktop\\Application\\University of Wisconsin - Madison_MA in Economics Department.docx\n"
     ]
    },
    {
     "data": {
      "application/vnd.jupyter.widget-view+json": {
       "model_id": "afcb1a063d08410983c6a6ff74af6865",
       "version_major": 2,
       "version_minor": 0
      },
      "text/plain": [
       "  0%|          | 0/1 [00:00<?, ?it/s]"
      ]
     },
     "metadata": {},
     "output_type": "display_data"
    },
    {
     "name": "stdout",
     "output_type": "stream",
     "text": [
      "转换为 PDF: C:\\Users\\邓双贤\\Desktop\\Application\\University of Wisconsin - Madison_MA in Economics Department.pdf\n",
      "生成文件: C:\\Users\\邓双贤\\Desktop\\Application\\University of Wisconsin - Madison_MA in Data Science.docx\n"
     ]
    },
    {
     "data": {
      "application/vnd.jupyter.widget-view+json": {
       "model_id": "da75f8add7ff49d9a24c1b61fad78260",
       "version_major": 2,
       "version_minor": 0
      },
      "text/plain": [
       "  0%|          | 0/1 [00:00<?, ?it/s]"
      ]
     },
     "metadata": {},
     "output_type": "display_data"
    },
    {
     "name": "stdout",
     "output_type": "stream",
     "text": [
      "转换为 PDF: C:\\Users\\邓双贤\\Desktop\\Application\\University of Wisconsin - Madison_MA in Data Science.pdf\n",
      "生成文件: C:\\Users\\邓双贤\\Desktop\\Application\\University of Wisconsin - Madison_PhD in Statistics.docx\n"
     ]
    },
    {
     "data": {
      "application/vnd.jupyter.widget-view+json": {
       "model_id": "15a1ce36feb748f8aed49078b7b3ccaa",
       "version_major": 2,
       "version_minor": 0
      },
      "text/plain": [
       "  0%|          | 0/1 [00:00<?, ?it/s]"
      ]
     },
     "metadata": {},
     "output_type": "display_data"
    },
    {
     "name": "stdout",
     "output_type": "stream",
     "text": [
      "转换为 PDF: C:\\Users\\邓双贤\\Desktop\\Application\\University of Wisconsin - Madison_PhD in Statistics.pdf\n",
      "生成文件: C:\\Users\\邓双贤\\Desktop\\Application\\University of Toronto_MA in Economics Department.docx\n"
     ]
    },
    {
     "data": {
      "application/vnd.jupyter.widget-view+json": {
       "model_id": "b5cc6fd59da94fa8a9bacb9a8646f30b",
       "version_major": 2,
       "version_minor": 0
      },
      "text/plain": [
       "  0%|          | 0/1 [00:00<?, ?it/s]"
      ]
     },
     "metadata": {},
     "output_type": "display_data"
    },
    {
     "name": "stdout",
     "output_type": "stream",
     "text": [
      "转换 C:\\Users\\邓双贤\\Desktop\\Application\\University of Toronto_MA in Economics Department.docx 到 C:\\Users\\邓双贤\\Desktop\\Application\\University of Toronto_MA in Economics Department.pdf 出错（第 1 次尝试）: Word.Application.Documents，将进行第 2 次尝试。\n"
     ]
    },
    {
     "data": {
      "application/vnd.jupyter.widget-view+json": {
       "model_id": "94a1affb3c914b39b4c806c60fed10be",
       "version_major": 2,
       "version_minor": 0
      },
      "text/plain": [
       "  0%|          | 0/1 [00:00<?, ?it/s]"
      ]
     },
     "metadata": {},
     "output_type": "display_data"
    },
    {
     "name": "stdout",
     "output_type": "stream",
     "text": [
      "转换为 PDF: C:\\Users\\邓双贤\\Desktop\\Application\\University of Toronto_MA in Economics Department.pdf\n",
      "生成文件: C:\\Users\\邓双贤\\Desktop\\Application\\University of Toronto_MA in Data Science.docx\n"
     ]
    },
    {
     "data": {
      "application/vnd.jupyter.widget-view+json": {
       "model_id": "5e5c3a0c30c349c39b4d364270337d73",
       "version_major": 2,
       "version_minor": 0
      },
      "text/plain": [
       "  0%|          | 0/1 [00:00<?, ?it/s]"
      ]
     },
     "metadata": {},
     "output_type": "display_data"
    },
    {
     "name": "stdout",
     "output_type": "stream",
     "text": [
      "转换为 PDF: C:\\Users\\邓双贤\\Desktop\\Application\\University of Toronto_MA in Data Science.pdf\n",
      "生成文件: C:\\Users\\邓双贤\\Desktop\\Application\\University of Toronto_PhD in Statistics.docx\n"
     ]
    },
    {
     "data": {
      "application/vnd.jupyter.widget-view+json": {
       "model_id": "941b032d08c345aa9581550f57ca0374",
       "version_major": 2,
       "version_minor": 0
      },
      "text/plain": [
       "  0%|          | 0/1 [00:00<?, ?it/s]"
      ]
     },
     "metadata": {},
     "output_type": "display_data"
    },
    {
     "name": "stdout",
     "output_type": "stream",
     "text": [
      "转换 C:\\Users\\邓双贤\\Desktop\\Application\\University of Toronto_PhD in Statistics.docx 到 C:\\Users\\邓双贤\\Desktop\\Application\\University of Toronto_PhD in Statistics.pdf 出错（第 1 次尝试）: Word.Application.Documents，将进行第 2 次尝试。\n"
     ]
    },
    {
     "data": {
      "application/vnd.jupyter.widget-view+json": {
       "model_id": "7879877a42544bd7b67d827c1db01552",
       "version_major": 2,
       "version_minor": 0
      },
      "text/plain": [
       "  0%|          | 0/1 [00:00<?, ?it/s]"
      ]
     },
     "metadata": {},
     "output_type": "display_data"
    },
    {
     "name": "stdout",
     "output_type": "stream",
     "text": [
      "转换为 PDF: C:\\Users\\邓双贤\\Desktop\\Application\\University of Toronto_PhD in Statistics.pdf\n",
      "生成文件: C:\\Users\\邓双贤\\Desktop\\Application\\Duke University_MA in Economics Department.docx\n"
     ]
    },
    {
     "data": {
      "application/vnd.jupyter.widget-view+json": {
       "model_id": "8f7060e02a394a4ea3cb170772b43bbf",
       "version_major": 2,
       "version_minor": 0
      },
      "text/plain": [
       "  0%|          | 0/1 [00:00<?, ?it/s]"
      ]
     },
     "metadata": {},
     "output_type": "display_data"
    },
    {
     "name": "stdout",
     "output_type": "stream",
     "text": [
      "转换为 PDF: C:\\Users\\邓双贤\\Desktop\\Application\\Duke University_MA in Economics Department.pdf\n",
      "生成文件: C:\\Users\\邓双贤\\Desktop\\Application\\Duke University_MA in Data Science.docx\n"
     ]
    },
    {
     "data": {
      "application/vnd.jupyter.widget-view+json": {
       "model_id": "e10a2a9231a14179b26a23aaba9aef13",
       "version_major": 2,
       "version_minor": 0
      },
      "text/plain": [
       "  0%|          | 0/1 [00:00<?, ?it/s]"
      ]
     },
     "metadata": {},
     "output_type": "display_data"
    },
    {
     "name": "stdout",
     "output_type": "stream",
     "text": [
      "转换 C:\\Users\\邓双贤\\Desktop\\Application\\Duke University_MA in Data Science.docx 到 C:\\Users\\邓双贤\\Desktop\\Application\\Duke University_MA in Data Science.pdf 出错（第 1 次尝试）: Word.Application.Documents，将进行第 2 次尝试。\n"
     ]
    },
    {
     "data": {
      "application/vnd.jupyter.widget-view+json": {
       "model_id": "a81a3576f5f94a39815a9adc011d554f",
       "version_major": 2,
       "version_minor": 0
      },
      "text/plain": [
       "  0%|          | 0/1 [00:00<?, ?it/s]"
      ]
     },
     "metadata": {},
     "output_type": "display_data"
    },
    {
     "name": "stdout",
     "output_type": "stream",
     "text": [
      "转换为 PDF: C:\\Users\\邓双贤\\Desktop\\Application\\Duke University_MA in Data Science.pdf\n",
      "生成文件: C:\\Users\\邓双贤\\Desktop\\Application\\Duke University_PhD in Statistics.docx\n"
     ]
    },
    {
     "data": {
      "application/vnd.jupyter.widget-view+json": {
       "model_id": "8b4694461a064959b50ed660c0d2b6e1",
       "version_major": 2,
       "version_minor": 0
      },
      "text/plain": [
       "  0%|          | 0/1 [00:00<?, ?it/s]"
      ]
     },
     "metadata": {},
     "output_type": "display_data"
    },
    {
     "name": "stdout",
     "output_type": "stream",
     "text": [
      "转换为 PDF: C:\\Users\\邓双贤\\Desktop\\Application\\Duke University_PhD in Statistics.pdf\n"
     ]
    }
   ],
   "source": [
    "# 遍历 Excel 数据\n",
    "for _, row in df.iterrows():\n",
    "    # 获取学校名称\n",
    "    uni_name = row['Name_of_the_University']\n",
    "    # 遍历三个项目名称列\n",
    "    for col in ['Name_of_the_Program1', 'Name_of_the_Program2', 'Name_of_the_Program3']:\n",
    "        # 获取项目名称\n",
    "        prog_name = row[col]\n",
    "        # 检查项目名称是否为空，如果项目名称为空值（NaN），则跳过本次循环，不进行后续处理\n",
    "        if pd.isna(prog_name):\n",
    "            continue\n",
    "        # 创建一个字典，包含学校名称和项目名称，用于替换 Word 模板中的占位符\n",
    "        context = {\n",
    "            'Name_of_the_University': str(uni_name),\n",
    "            'Name_of_the_Program': str(prog_name)\n",
    "        }\n",
    "        # 使用上下文数据替换 Word 模板中的占位符\n",
    "        template.render(context)\n",
    "        # 生成 Word 文件名\n",
    "        docx_name = f'{uni_name}_{prog_name}.docx'\n",
    "        # 拼接 Word 文件保存路径，将保存文件夹路径和 Word 文件名拼接成完整的保存路径\n",
    "        docx_path = os.path.join(save_folder, docx_name)\n",
    "        # 保存 Word 文档\n",
    "        template.save(docx_path)\n",
    "        # 打印生成 Word 文件的信息\n",
    "        print(f'生成文件: {docx_path}')\n",
    "\n",
    "        # 根据学校名称和项目名称生成对应的 PDF 文件名\n",
    "        pdf_name = f'{uni_name}_{prog_name}.pdf'\n",
    "        # 拼接 PDF 文件保存路径，将保存文件夹路径和 PDF 文件名拼接成完整的保存路径\n",
    "        pdf_path = os.path.join(save_folder, pdf_name)\n",
    "\n",
    "        retries = 0\n",
    "        success = False\n",
    "        while retries < MAX_RETRIES and not success:\n",
    "            try:\n",
    "                # 转换 Word 文件为 PDF 文件\n",
    "                convert(docx_path, pdf_path)\n",
    "                # 打印转换成功的信息\n",
    "                print(f'转换为 PDF: {pdf_path}')\n",
    "                success = True\n",
    "            except Exception as e:\n",
    "                retries += 1\n",
    "                if retries < MAX_RETRIES:\n",
    "                    print(f'转换 {docx_path} 到 {pdf_path} 出错（第 {retries} 次尝试）: {e}，将进行第 {retries + 1} 次尝试。')\n",
    "                else:\n",
    "                    print(f'转换 {docx_path} 到 {pdf_path} 出错（第 {retries} 次尝试）: {e}，已达到最大重试次数，转换失败。')"
   ]
  }
 ],
 "metadata": {
  "kernelspec": {
   "display_name": "Python 3 (ipykernel)",
   "language": "python",
   "name": "python3"
  },
  "language_info": {
   "codemirror_mode": {
    "name": "ipython",
    "version": 3
   },
   "file_extension": ".py",
   "mimetype": "text/x-python",
   "name": "python",
   "nbconvert_exporter": "python",
   "pygments_lexer": "ipython3",
   "version": "3.12.4"
  }
 },
 "nbformat": 4,
 "nbformat_minor": 5
}
